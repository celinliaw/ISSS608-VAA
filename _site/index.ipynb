{
  "cells": [
    {
      "cell_type": "markdown",
      "metadata": {},
      "source": [
        "# ISSS608-Website\n",
        "\n",
        "Celin Liaw  \n",
        "2025-04-19\n",
        "\n",
        "Welcome to **ISSS609 Visual Analytics and Applications** homepage.\n",
        "\n",
        "In this website, you will find my coursework prepared for this course.\n",
        "\n",
        "Fun fact: Cats are cute"
      ],
      "id": "a4c5070d-8443-431a-87f6-efed741ca9d7"
    }
  ],
  "nbformat": 4,
  "nbformat_minor": 5,
  "metadata": {
    "kernelspec": {
      "display_name": "Python 3",
      "language": "python",
      "name": "python3"
    }
  }
}