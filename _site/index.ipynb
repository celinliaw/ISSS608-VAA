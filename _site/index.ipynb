{
  "cells": [
    {
      "cell_type": "markdown",
      "metadata": {},
      "source": [
        "# Celin’s ISSS608\n",
        "\n",
        "Celin Liaw  \n",
        "2025-05-01\n",
        "\n",
        "Welcome to **ISSS609 Visual Analytics and Applications** homepage.\n",
        "\n",
        "In this website, you will find my coursework prepared for this course.\n",
        "\n",
        "😸 🐾 🐈‍⬛"
      ],
      "id": "4d22f315-3992-4813-ba24-fd6aba32227a"
    }
  ],
  "nbformat": 4,
  "nbformat_minor": 5,
  "metadata": {
    "kernelspec": {
      "display_name": "Python 3",
      "language": "python",
      "name": "python3"
    }
  }
}