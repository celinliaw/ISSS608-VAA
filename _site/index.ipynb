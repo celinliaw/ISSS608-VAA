{
  "cells": [
    {
      "cell_type": "markdown",
      "metadata": {},
      "source": [
        "# ISSS608-Website\n",
        "\n",
        "Celin Liaw  \n",
        "2025-04-19\n",
        "\n",
        "Welcome to **ISSS609 Visual Analytics and Applications** homepage.\n",
        "\n",
        "In this website, you will find my coursework prepared for this course.\n",
        "\n",
        "Fun fact: Cats are cute"
      ],
      "id": "5b2de942-069f-4c33-a878-a19f2139a948"
    }
  ],
  "nbformat": 4,
  "nbformat_minor": 5,
  "metadata": {
    "kernelspec": {
      "display_name": "Python 3",
      "language": "python",
      "name": "python3"
    }
  }
}